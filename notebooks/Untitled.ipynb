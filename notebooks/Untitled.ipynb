{
 "cells": [
  {
   "cell_type": "code",
   "execution_count": null,
   "metadata": {},
   "outputs": [],
   "source": []
  },
  {
   "cell_type": "code",
   "execution_count": null,
   "metadata": {},
   "outputs": [],
   "source": [
    "\n",
    "from ebmdatalab import bq\n",
    "import os\n",
    "import pandas as pd"
   ]
  },
  {
   "cell_type": "code",
   "execution_count": null,
   "metadata": {},
   "outputs": [],
   "source": [
    "# The following is written based on version 1 frm March 27th and \n",
    "## is archived at https://web.archive.org/save/https://digital.nhs.uk/coronavirus/shielded-patient-list/methodology/medicines-data\n",
    "\n",
    "sql = '''\n",
    "WITH bnf_codes AS (  \n",
    "  SELECT bnf_code FROM hscic.presentation WHERE \n",
    "  (##transplant\n",
    "  bnf_code LIKE '0802%' OR # the following meds are listed in definition but annex looks like they included all meds in this section\n",
    "  ##respiratory\n",
    "  bnf_code LIKE '030302%' OR #BNF leukotriene antagonists\n",
    "  bnf_code LIKE '0603020T0%' OR #BNF prednisolone\n",
    "  bnf_code LIKE '030101%' OR #BNF adrenoceptor aganosts\n",
    "  bnf_code LIKE '0302%' OR #BNF corticosteroids resp\n",
    "  bnf_code LIKE '0303030B0%' OR #BNF roflumilast \n",
    "  bnf_code LIKE '030102%') #BNF antimuscarinin brochodilators\n",
    "  AND\n",
    "  (bnf_code NOT LIKE '0802020T0%XAX' OR #BNF tacrolimus mouthwash\n",
    "  bnf_code NOT LIKE '0301011R0%')\n",
    "   )\n",
    "SELECT onj_type, id, bnf_code, nm\n",
    "FROM ebmdatalab.measures_v2.dmd_objs_with_form_route\n",
    "WHERE bnf_code IN (SELECT * FROM bnf_codes)\n",
    "\n",
    "ORDER BY bnf_code, type, id'''\n",
    "\n",
    "immunosuppressants = bq.cached_read(sql, csv_path=os.path.join('..','data','immunosuppressants.csv'))\n",
    "pd.set_option('display.max_rows', None)\n",
    "pd.set_option('display.max_colwidth', None)\n",
    "immunosuppressants.head(10)"
   ]
  }
 ],
 "metadata": {
  "jupytext": {
   "cell_metadata_filter": "all",
   "notebook_metadata_filter": "all,-language_info",
   "text_representation": {
    "extension": ".py",
    "format_name": "light",
    "format_version": "1.5",
    "jupytext_version": "1.3.3"
   }
  },
  "kernelspec": {
   "display_name": "Python 3",
   "language": "python",
   "name": "python3"
  },
  "language_info": {
   "codemirror_mode": {
    "name": "ipython",
    "version": 3
   },
   "file_extension": ".py",
   "mimetype": "text/x-python",
   "name": "python",
   "nbconvert_exporter": "python",
   "pygments_lexer": "ipython3",
   "version": "3.8.1"
  }
 },
 "nbformat": 4,
 "nbformat_minor": 4
}
